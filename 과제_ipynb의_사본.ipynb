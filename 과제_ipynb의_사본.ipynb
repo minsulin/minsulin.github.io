{
  "nbformat": 4,
  "nbformat_minor": 0,
  "metadata": {
    "colab": {
      "provenance": [],
      "authorship_tag": "ABX9TyOPuZmORfDZPqqYZD9DvUxX",
      "include_colab_link": true
    },
    "kernelspec": {
      "name": "python3",
      "display_name": "Python 3"
    }
  },
  "cells": [
    {
      "cell_type": "markdown",
      "metadata": {
        "id": "view-in-github",
        "colab_type": "text"
      },
      "source": [
        "<a href=\"https://colab.research.google.com/github/minsulin/minsulin.github.io/blob/main/%EA%B3%BC%EC%A0%9C_ipynb%EC%9D%98_%EC%82%AC%EB%B3%B8.ipynb\" target=\"_parent\"><img src=\"https://colab.research.google.com/assets/colab-badge.svg\" alt=\"Open In Colab\"/></a>"
      ]
    },
    {
      "cell_type": "markdown",
      "metadata": {
        "id": "3aeIRY2GEtvd"
      },
      "source": [
        "# 가설 : 자격증에 관한 광고가 자격증과 관련 없는 광고보다 클릭수가 더 높을 것이다."
      ]
    },
    {
      "cell_type": "code",
      "metadata": {
        "id": "-pmx-GGJE90g"
      },
      "source": [
        "import pandas as pd\n",
        "from pandas import DataFrame\n",
        "import numpy as np\n",
        "import matplotlib.pyplot as plt"
      ],
      "execution_count": null,
      "outputs": []
    },
    {
      "cell_type": "code",
      "metadata": {
        "id": "h8uIYZShELDn"
      },
      "source": [
        "df=pd.read_excel('네이버보고서.xls', skiprows=[0])"
      ],
      "execution_count": null,
      "outputs": []
    },
    {
      "cell_type": "code",
      "metadata": {
        "id": "7je4ilF2EXjJ",
        "colab": {
          "base_uri": "https://localhost:8080/",
          "height": 204
        },
        "outputId": "68b3a996-76b0-4dc2-8701-7f5a38b9b164"
      },
      "source": [
        "df_li = df[df['키워드'].str.contains('자격증') & df ['클릭수']!=0 ]\n",
        "df_li.head()"
      ],
      "execution_count": null,
      "outputs": [
        {
          "output_type": "execute_result",
          "data": {
            "text/html": [
              "<div>\n",
              "<style scoped>\n",
              "    .dataframe tbody tr th:only-of-type {\n",
              "        vertical-align: middle;\n",
              "    }\n",
              "\n",
              "    .dataframe tbody tr th {\n",
              "        vertical-align: top;\n",
              "    }\n",
              "\n",
              "    .dataframe thead th {\n",
              "        text-align: right;\n",
              "    }\n",
              "</style>\n",
              "<table border=\"1\" class=\"dataframe\">\n",
              "  <thead>\n",
              "    <tr style=\"text-align: right;\">\n",
              "      <th></th>\n",
              "      <th>광고그룹</th>\n",
              "      <th>키워드</th>\n",
              "      <th>노출수</th>\n",
              "      <th>클릭수</th>\n",
              "      <th>클릭률(%)</th>\n",
              "      <th>평균클릭비용(VAT포함,원)</th>\n",
              "      <th>총비용(VAT포함,원)</th>\n",
              "    </tr>\n",
              "  </thead>\n",
              "  <tbody>\n",
              "    <tr>\n",
              "      <th>15</th>\n",
              "      <td>올인원 패키지 : 업무자동화_VBA</td>\n",
              "      <td>엑셀자격증</td>\n",
              "      <td>37558</td>\n",
              "      <td>1770.0</td>\n",
              "      <td>4.712711</td>\n",
              "      <td>288.802825</td>\n",
              "      <td>511181</td>\n",
              "    </tr>\n",
              "    <tr>\n",
              "      <th>45</th>\n",
              "      <td>올인원 패키지 : 업무자동화_VBA</td>\n",
              "      <td>컴퓨터자격증종류</td>\n",
              "      <td>21458</td>\n",
              "      <td>892.8</td>\n",
              "      <td>4.160686</td>\n",
              "      <td>299.727823</td>\n",
              "      <td>267597</td>\n",
              "    </tr>\n",
              "    <tr>\n",
              "      <th>86</th>\n",
              "      <td>올인원 패키지 : 업무자동화_VBA</td>\n",
              "      <td>컴퓨터자격증</td>\n",
              "      <td>20796</td>\n",
              "      <td>476.4</td>\n",
              "      <td>2.290825</td>\n",
              "      <td>310.188917</td>\n",
              "      <td>147774</td>\n",
              "    </tr>\n",
              "    <tr>\n",
              "      <th>95</th>\n",
              "      <td>올인원 패키지 : 디자인 툴_파워컨텐츠_포토샵</td>\n",
              "      <td>포토샵자격증</td>\n",
              "      <td>18602</td>\n",
              "      <td>1059.6</td>\n",
              "      <td>5.696162</td>\n",
              "      <td>125.281238</td>\n",
              "      <td>132748</td>\n",
              "    </tr>\n",
              "    <tr>\n",
              "      <th>96</th>\n",
              "      <td>고객의 마음을 읽는 구글애널리틱스</td>\n",
              "      <td>구글애널리틱스자격증</td>\n",
              "      <td>6196</td>\n",
              "      <td>90.0</td>\n",
              "      <td>1.452550</td>\n",
              "      <td>1470.577778</td>\n",
              "      <td>132352</td>\n",
              "    </tr>\n",
              "  </tbody>\n",
              "</table>\n",
              "</div>"
            ],
            "text/plain": [
              "                         광고그룹         키워드  ...  평균클릭비용(VAT포함,원)  총비용(VAT포함,원)\n",
              "15        올인원 패키지 : 업무자동화_VBA       엑셀자격증  ...       288.802825        511181\n",
              "45        올인원 패키지 : 업무자동화_VBA    컴퓨터자격증종류  ...       299.727823        267597\n",
              "86        올인원 패키지 : 업무자동화_VBA      컴퓨터자격증  ...       310.188917        147774\n",
              "95  올인원 패키지 : 디자인 툴_파워컨텐츠_포토샵      포토샵자격증  ...       125.281238        132748\n",
              "96         고객의 마음을 읽는 구글애널리틱스  구글애널리틱스자격증  ...      1470.577778        132352\n",
              "\n",
              "[5 rows x 7 columns]"
            ]
          },
          "metadata": {
            "tags": []
          },
          "execution_count": 68
        }
      ]
    },
    {
      "cell_type": "code",
      "metadata": {
        "id": "vC_4VBAlEXlf",
        "colab": {
          "base_uri": "https://localhost:8080/",
          "height": 297
        },
        "outputId": "0ccca07c-f02c-42d9-f3db-53f8ede5e52f"
      },
      "source": [
        "df_li.describe()"
      ],
      "execution_count": null,
      "outputs": [
        {
          "output_type": "execute_result",
          "data": {
            "text/html": [
              "<div>\n",
              "<style scoped>\n",
              "    .dataframe tbody tr th:only-of-type {\n",
              "        vertical-align: middle;\n",
              "    }\n",
              "\n",
              "    .dataframe tbody tr th {\n",
              "        vertical-align: top;\n",
              "    }\n",
              "\n",
              "    .dataframe thead th {\n",
              "        text-align: right;\n",
              "    }\n",
              "</style>\n",
              "<table border=\"1\" class=\"dataframe\">\n",
              "  <thead>\n",
              "    <tr style=\"text-align: right;\">\n",
              "      <th></th>\n",
              "      <th>노출수</th>\n",
              "      <th>클릭수</th>\n",
              "      <th>클릭률(%)</th>\n",
              "      <th>평균클릭비용(VAT포함,원)</th>\n",
              "      <th>총비용(VAT포함,원)</th>\n",
              "    </tr>\n",
              "  </thead>\n",
              "  <tbody>\n",
              "    <tr>\n",
              "      <th>count</th>\n",
              "      <td>19.000000</td>\n",
              "      <td>19.000000</td>\n",
              "      <td>19.000000</td>\n",
              "      <td>19.000000</td>\n",
              "      <td>19.000000</td>\n",
              "    </tr>\n",
              "    <tr>\n",
              "      <th>mean</th>\n",
              "      <td>11920.842105</td>\n",
              "      <td>283.389474</td>\n",
              "      <td>1.680995</td>\n",
              "      <td>1124.528247</td>\n",
              "      <td>90926.000000</td>\n",
              "    </tr>\n",
              "    <tr>\n",
              "      <th>std</th>\n",
              "      <td>12112.240431</td>\n",
              "      <td>468.949509</td>\n",
              "      <td>1.629995</td>\n",
              "      <td>1303.159880</td>\n",
              "      <td>121583.876164</td>\n",
              "    </tr>\n",
              "    <tr>\n",
              "      <th>min</th>\n",
              "      <td>1078.000000</td>\n",
              "      <td>1.200000</td>\n",
              "      <td>0.077270</td>\n",
              "      <td>125.281238</td>\n",
              "      <td>1133.000000</td>\n",
              "    </tr>\n",
              "    <tr>\n",
              "      <th>25%</th>\n",
              "      <td>2185.000000</td>\n",
              "      <td>12.600000</td>\n",
              "      <td>0.434594</td>\n",
              "      <td>304.958370</td>\n",
              "      <td>18782.500000</td>\n",
              "    </tr>\n",
              "    <tr>\n",
              "      <th>50%</th>\n",
              "      <td>7544.000000</td>\n",
              "      <td>90.000000</td>\n",
              "      <td>1.245890</td>\n",
              "      <td>395.852490</td>\n",
              "      <td>56188.000000</td>\n",
              "    </tr>\n",
              "    <tr>\n",
              "      <th>75%</th>\n",
              "      <td>17732.500000</td>\n",
              "      <td>246.600000</td>\n",
              "      <td>2.290694</td>\n",
              "      <td>1325.011111</td>\n",
              "      <td>115731.000000</td>\n",
              "    </tr>\n",
              "    <tr>\n",
              "      <th>max</th>\n",
              "      <td>42228.000000</td>\n",
              "      <td>1770.000000</td>\n",
              "      <td>5.696162</td>\n",
              "      <td>3938.611111</td>\n",
              "      <td>511181.000000</td>\n",
              "    </tr>\n",
              "  </tbody>\n",
              "</table>\n",
              "</div>"
            ],
            "text/plain": [
              "                노출수          클릭수     클릭률(%)  평균클릭비용(VAT포함,원)   총비용(VAT포함,원)\n",
              "count     19.000000    19.000000  19.000000        19.000000      19.000000\n",
              "mean   11920.842105   283.389474   1.680995      1124.528247   90926.000000\n",
              "std    12112.240431   468.949509   1.629995      1303.159880  121583.876164\n",
              "min     1078.000000     1.200000   0.077270       125.281238    1133.000000\n",
              "25%     2185.000000    12.600000   0.434594       304.958370   18782.500000\n",
              "50%     7544.000000    90.000000   1.245890       395.852490   56188.000000\n",
              "75%    17732.500000   246.600000   2.290694      1325.011111  115731.000000\n",
              "max    42228.000000  1770.000000   5.696162      3938.611111  511181.000000"
            ]
          },
          "metadata": {
            "tags": []
          },
          "execution_count": 69
        }
      ]
    },
    {
      "cell_type": "code",
      "metadata": {
        "id": "IPFjviZpEXqT",
        "colab": {
          "base_uri": "https://localhost:8080/",
          "height": 35
        },
        "outputId": "73918109-5d51-41d8-8956-8ae2abf5aace"
      },
      "source": [
        "df_li.shape"
      ],
      "execution_count": null,
      "outputs": [
        {
          "output_type": "execute_result",
          "data": {
            "text/plain": [
              "(19, 7)"
            ]
          },
          "metadata": {
            "tags": []
          },
          "execution_count": 70
        }
      ]
    },
    {
      "cell_type": "code",
      "metadata": {
        "id": "knhgcNTyEkrD",
        "colab": {
          "base_uri": "https://localhost:8080/",
          "height": 35
        },
        "outputId": "50e58bc5-7b28-4597-9a12-dfa805e33373"
      },
      "source": [
        "df_li_mean = df_li['클릭수'].mean()\n",
        "df_li_mean"
      ],
      "execution_count": null,
      "outputs": [
        {
          "output_type": "execute_result",
          "data": {
            "text/plain": [
              "283.38947368421054"
            ]
          },
          "metadata": {
            "tags": []
          },
          "execution_count": 71
        }
      ]
    },
    {
      "cell_type": "code",
      "metadata": {
        "id": "8TEHvj3pEn6P",
        "colab": {
          "base_uri": "https://localhost:8080/",
          "height": 265
        },
        "outputId": "a4ddd3c9-2533-4459-fed9-e53d9d01a96b"
      },
      "source": [
        "df_li['클릭수'].plot()\n",
        "plt.show()"
      ],
      "execution_count": null,
      "outputs": [
        {
          "output_type": "display_data",
          "data": {
            "image/png": "[encoded data removed]",
            "text/plain": [
              "<Figure size 432x288 with 1 Axes>"
            ]
          },
          "metadata": {
            "tags": [],
            "image/png": {
              "width": 381,
              "height": 248
            }
          }
        }
      ]
    },
    {
      "cell_type": "code",
      "metadata": {
        "id": "HR4j7JW5EXn5",
        "colab": {
          "base_uri": "https://localhost:8080/",
          "height": 204
        },
        "outputId": "be31c78c-5198-4177-c17a-f3a2cbc3f7a2"
      },
      "source": [
        "df_noli = df[(df['키워드'].str.contains('자격증') == False)  & df ['클릭수']!=0 ]\n",
        "df_noli.tail()"
      ],
      "execution_count": null,
      "outputs": [
        {
          "output_type": "execute_result",
          "data": {
            "text/html": [
              "<div>\n",
              "<style scoped>\n",
              "    .dataframe tbody tr th:only-of-type {\n",
              "        vertical-align: middle;\n",
              "    }\n",
              "\n",
              "    .dataframe tbody tr th {\n",
              "        vertical-align: top;\n",
              "    }\n",
              "\n",
              "    .dataframe thead th {\n",
              "        text-align: right;\n",
              "    }\n",
              "</style>\n",
              "<table border=\"1\" class=\"dataframe\">\n",
              "  <thead>\n",
              "    <tr style=\"text-align: right;\">\n",
              "      <th></th>\n",
              "      <th>광고그룹</th>\n",
              "      <th>키워드</th>\n",
              "      <th>노출수</th>\n",
              "      <th>클릭수</th>\n",
              "      <th>클릭률(%)</th>\n",
              "      <th>평균클릭비용(VAT포함,원)</th>\n",
              "      <th>총비용(VAT포함,원)</th>\n",
              "    </tr>\n",
              "  </thead>\n",
              "  <tbody>\n",
              "    <tr>\n",
              "      <th>1052</th>\n",
              "      <td>리눅스 인프라</td>\n",
              "      <td>커널</td>\n",
              "      <td>17843</td>\n",
              "      <td>1.2</td>\n",
              "      <td>0.006725</td>\n",
              "      <td>64.166667</td>\n",
              "      <td>77</td>\n",
              "    </tr>\n",
              "    <tr>\n",
              "      <th>1053</th>\n",
              "      <td>올인원 패키지 : 금융공학/퀀트_01.파이썬기본&amp;자동화</td>\n",
              "      <td>SQLITE</td>\n",
              "      <td>19367</td>\n",
              "      <td>1.2</td>\n",
              "      <td>0.006196</td>\n",
              "      <td>64.166667</td>\n",
              "      <td>77</td>\n",
              "    </tr>\n",
              "    <tr>\n",
              "      <th>1054</th>\n",
              "      <td>올인원 패키지 : 업무자동화_3. 엑셀</td>\n",
              "      <td>엑셀합계</td>\n",
              "      <td>20733</td>\n",
              "      <td>1.2</td>\n",
              "      <td>0.005788</td>\n",
              "      <td>64.166667</td>\n",
              "      <td>77</td>\n",
              "    </tr>\n",
              "    <tr>\n",
              "      <th>1055</th>\n",
              "      <td>파이썬을 통한 금융 데이터 수집과 분석 자동화 16기</td>\n",
              "      <td>BEAUTIFULSOUP</td>\n",
              "      <td>1125</td>\n",
              "      <td>1.2</td>\n",
              "      <td>0.106667</td>\n",
              "      <td>55.000000</td>\n",
              "      <td>66</td>\n",
              "    </tr>\n",
              "    <tr>\n",
              "      <th>1056</th>\n",
              "      <td>웹 프로그래밍 스쿨 10기_기존 키워드</td>\n",
              "      <td>DJANGO</td>\n",
              "      <td>1848</td>\n",
              "      <td>1.2</td>\n",
              "      <td>0.064935</td>\n",
              "      <td>55.000000</td>\n",
              "      <td>66</td>\n",
              "    </tr>\n",
              "  </tbody>\n",
              "</table>\n",
              "</div>"
            ],
            "text/plain": [
              "                                광고그룹  ... 총비용(VAT포함,원)\n",
              "1052                         리눅스 인프라  ...           77\n",
              "1053  올인원 패키지 : 금융공학/퀀트_01.파이썬기본&자동화  ...           77\n",
              "1054           올인원 패키지 : 업무자동화_3. 엑셀  ...           77\n",
              "1055   파이썬을 통한 금융 데이터 수집과 분석 자동화 16기  ...           66\n",
              "1056           웹 프로그래밍 스쿨 10기_기존 키워드  ...           66\n",
              "\n",
              "[5 rows x 7 columns]"
            ]
          },
          "metadata": {
            "tags": []
          },
          "execution_count": 73
        }
      ]
    },
    {
      "cell_type": "code",
      "metadata": {
        "id": "l39k12R-Eav9",
        "colab": {
          "base_uri": "https://localhost:8080/",
          "height": 297
        },
        "outputId": "7b5e47de-5d43-4ad1-e783-193599deb352"
      },
      "source": [
        "df_noli.describe()"
      ],
      "execution_count": null,
      "outputs": [
        {
          "output_type": "execute_result",
          "data": {
            "text/html": [
              "<div>\n",
              "<style scoped>\n",
              "    .dataframe tbody tr th:only-of-type {\n",
              "        vertical-align: middle;\n",
              "    }\n",
              "\n",
              "    .dataframe tbody tr th {\n",
              "        vertical-align: top;\n",
              "    }\n",
              "\n",
              "    .dataframe thead th {\n",
              "        text-align: right;\n",
              "    }\n",
              "</style>\n",
              "<table border=\"1\" class=\"dataframe\">\n",
              "  <thead>\n",
              "    <tr style=\"text-align: right;\">\n",
              "      <th></th>\n",
              "      <th>노출수</th>\n",
              "      <th>클릭수</th>\n",
              "      <th>클릭률(%)</th>\n",
              "      <th>평균클릭비용(VAT포함,원)</th>\n",
              "      <th>총비용(VAT포함,원)</th>\n",
              "    </tr>\n",
              "  </thead>\n",
              "  <tbody>\n",
              "    <tr>\n",
              "      <th>count</th>\n",
              "      <td>1.038000e+03</td>\n",
              "      <td>1038.000000</td>\n",
              "      <td>1038.000000</td>\n",
              "      <td>1038.000000</td>\n",
              "      <td>1.038000e+03</td>\n",
              "    </tr>\n",
              "    <tr>\n",
              "      <th>mean</th>\n",
              "      <td>4.525716e+04</td>\n",
              "      <td>64.701734</td>\n",
              "      <td>0.438705</td>\n",
              "      <td>1285.421306</td>\n",
              "      <td>4.878550e+04</td>\n",
              "    </tr>\n",
              "    <tr>\n",
              "      <th>std</th>\n",
              "      <td>3.413621e+05</td>\n",
              "      <td>440.478056</td>\n",
              "      <td>1.098768</td>\n",
              "      <td>1443.306403</td>\n",
              "      <td>1.612897e+05</td>\n",
              "    </tr>\n",
              "    <tr>\n",
              "      <th>min</th>\n",
              "      <td>1.003000e+03</td>\n",
              "      <td>1.200000</td>\n",
              "      <td>0.002026</td>\n",
              "      <td>55.000000</td>\n",
              "      <td>6.600000e+01</td>\n",
              "    </tr>\n",
              "    <tr>\n",
              "      <th>25%</th>\n",
              "      <td>2.196250e+03</td>\n",
              "      <td>2.400000</td>\n",
              "      <td>0.036140</td>\n",
              "      <td>261.324862</td>\n",
              "      <td>1.069750e+03</td>\n",
              "    </tr>\n",
              "    <tr>\n",
              "      <th>50%</th>\n",
              "      <td>5.104000e+03</td>\n",
              "      <td>7.200000</td>\n",
              "      <td>0.104541</td>\n",
              "      <td>785.277778</td>\n",
              "      <td>5.373500e+03</td>\n",
              "    </tr>\n",
              "    <tr>\n",
              "      <th>75%</th>\n",
              "      <td>1.558425e+04</td>\n",
              "      <td>21.600000</td>\n",
              "      <td>0.339710</td>\n",
              "      <td>1745.192308</td>\n",
              "      <td>2.844600e+04</td>\n",
              "    </tr>\n",
              "    <tr>\n",
              "      <th>max</th>\n",
              "      <td>9.626374e+06</td>\n",
              "      <td>9606.000000</td>\n",
              "      <td>13.587402</td>\n",
              "      <td>9362.527778</td>\n",
              "      <td>2.512444e+06</td>\n",
              "    </tr>\n",
              "  </tbody>\n",
              "</table>\n",
              "</div>"
            ],
            "text/plain": [
              "                노출수          클릭수       클릭률(%)  평균클릭비용(VAT포함,원)  총비용(VAT포함,원)\n",
              "count  1.038000e+03  1038.000000  1038.000000      1038.000000  1.038000e+03\n",
              "mean   4.525716e+04    64.701734     0.438705      1285.421306  4.878550e+04\n",
              "std    3.413621e+05   440.478056     1.098768      1443.306403  1.612897e+05\n",
              "min    1.003000e+03     1.200000     0.002026        55.000000  6.600000e+01\n",
              "25%    2.196250e+03     2.400000     0.036140       261.324862  1.069750e+03\n",
              "50%    5.104000e+03     7.200000     0.104541       785.277778  5.373500e+03\n",
              "75%    1.558425e+04    21.600000     0.339710      1745.192308  2.844600e+04\n",
              "max    9.626374e+06  9606.000000    13.587402      9362.527778  2.512444e+06"
            ]
          },
          "metadata": {
            "tags": []
          },
          "execution_count": 74
        }
      ]
    },
    {
      "cell_type": "code",
      "metadata": {
        "id": "I_GGL8AhEXhI",
        "colab": {
          "base_uri": "https://localhost:8080/",
          "height": 35
        },
        "outputId": "5ae14daf-1f30-4d97-b929-acab944f06fb"
      },
      "source": [
        "df_noli.shape"
      ],
      "execution_count": null,
      "outputs": [
        {
          "output_type": "execute_result",
          "data": {
            "text/plain": [
              "(1038, 7)"
            ]
          },
          "metadata": {
            "tags": []
          },
          "execution_count": 75
        }
      ]
    },
    {
      "cell_type": "code",
      "metadata": {
        "id": "F0YsUUmAEcYk",
        "colab": {
          "base_uri": "https://localhost:8080/",
          "height": 35
        },
        "outputId": "9d0bd434-5e3f-4234-ad80-7381120fae5e"
      },
      "source": [
        "df_noli_mean = df_noli['클릭수'].mean()\n",
        "df_noli_mean"
      ],
      "execution_count": null,
      "outputs": [
        {
          "output_type": "execute_result",
          "data": {
            "text/plain": [
              "64.70173410404568"
            ]
          },
          "metadata": {
            "tags": []
          },
          "execution_count": 76
        }
      ]
    },
    {
      "cell_type": "code",
      "metadata": {
        "id": "SmGh32biEcdb",
        "colab": {
          "base_uri": "https://localhost:8080/",
          "height": 267
        },
        "outputId": "a2274065-30a5-4b0a-bb05-b8bd2a3a4e83"
      },
      "source": [
        "df_noli['클릭수'].plot()\n",
        "plt.show()"
      ],
      "execution_count": null,
      "outputs": [
        {
          "output_type": "display_data",
          "data": {
            "image/png": "[encoded data removed]",
            "text/plain": [
              "<Figure size 432x288 with 1 Axes>"
            ]
          },
          "metadata": {
            "tags": [],
            "image/png": {
              "width": 388,
              "height": 250
            }
          }
        }
      ]
    },
    {
      "cell_type": "markdown",
      "metadata": {
        "id": "pgzf4E7kErp6"
      },
      "source": [
        "# 그래프"
      ]
    },
    {
      "cell_type": "code",
      "metadata": {
        "id": "sMjbSsl_FUvC"
      },
      "source": [
        "%matplotlib inline\n",
        "\n",
        "import matplotlib\n",
        "from matplotlib import rc, font_manager\n",
        "import platform"
      ],
      "execution_count": null,
      "outputs": []
    },
    {
      "cell_type": "code",
      "metadata": {
        "id": "FB0wfw24ITFr",
        "colab": {
          "base_uri": "https://localhost:8080/",
          "height": 107
        },
        "outputId": "dc4fa101-76e6-4511-f4ff-5c92baef9091"
      },
      "source": [
        "%config InlineBackend.figure_format = 'retina'\n",
        "\n",
        "!apt -qq -y install fonts-nanum\n",
        "\n",
        "fontpath = '/usr/share/fonts/truetype/nanum/NanumBarunGothic.ttf'\n",
        "font = font_manager.FontProperties(fname=fontpath, size=9)\n",
        "plt.rc('font', family='NanumBarunGothic')\n",
        "matplotlib.font_manager._rebuild()"
      ],
      "execution_count": null,
      "outputs": [
        {
          "output_type": "stream",
          "text": [
            "fonts-nanum is already the newest version (20170925-1).\n",
            "The following package was automatically installed and is no longer required:\n",
            "  libnvidia-common-430\n",
            "Use 'apt autoremove' to remove it.\n",
            "0 upgraded, 0 newly installed, 0 to remove and 107 not upgraded.\n"
          ],
          "name": "stdout"
        }
      ]
    },
    {
      "cell_type": "code",
      "metadata": {
        "id": "NUf4FboDEtKU",
        "colab": {
          "base_uri": "https://localhost:8080/",
          "height": 496
        },
        "outputId": "7e388fe7-a729-47dd-a362-905123193e9e"
      },
      "source": [
        "y = [df_li['클릭수'].mean(), df_noli['클릭수'].mean()]\n",
        "x = np.arange(len(y))\n",
        "xlabel = ['license click', 'nolicense click']\n",
        "plt.title('클릭 수')\n",
        "plt.xticks(x, xlabel)\n",
        "plt.bar(x,y)\n",
        "plt.show()"
      ],
      "execution_count": null,
      "outputs": [
        {
          "output_type": "stream",
          "text": [
            "/usr/local/lib/python3.6/dist-packages/matplotlib/backends/backend_agg.py:211: RuntimeWarning: Glyph 53364 missing from current font.\n",
            "  font.set_text(s, 0.0, flags=flags)\n",
            "/usr/local/lib/python3.6/dist-packages/matplotlib/backends/backend_agg.py:211: RuntimeWarning: Glyph 47533 missing from current font.\n",
            "  font.set_text(s, 0.0, flags=flags)\n",
            "/usr/local/lib/python3.6/dist-packages/matplotlib/backends/backend_agg.py:211: RuntimeWarning: Glyph 49688 missing from current font.\n",
            "  font.set_text(s, 0.0, flags=flags)\n",
            "/usr/local/lib/python3.6/dist-packages/matplotlib/backends/backend_agg.py:180: RuntimeWarning: Glyph 53364 missing from current font.\n",
            "  font.set_text(s, 0, flags=flags)\n",
            "/usr/local/lib/python3.6/dist-packages/matplotlib/backends/backend_agg.py:180: RuntimeWarning: Glyph 47533 missing from current font.\n",
            "  font.set_text(s, 0, flags=flags)\n",
            "/usr/local/lib/python3.6/dist-packages/matplotlib/backends/backend_agg.py:180: RuntimeWarning: Glyph 49688 missing from current font.\n",
            "  font.set_text(s, 0, flags=flags)\n"
          ],
          "name": "stderr"
        },
        {
          "output_type": "display_data",
          "data": {
            "image/png": "[encoded data removed]",
            "text/plain": [
              "<Figure size 432x288 with 1 Axes>"
            ]
          },
          "metadata": {
            "tags": [],
            "image/png": {
              "width": 375,
              "height": 263
            }
          }
        }
      ]
    },
    {
      "cell_type": "code",
      "metadata": {
        "id": "Qdw7AcC1L3mO"
      },
      "source": [],
      "execution_count": null,
      "outputs": []
    },
    {
      "cell_type": "code",
      "metadata": {
        "id": "2nCVBRPhQWFU"
      },
      "source": [],
      "execution_count": null,
      "outputs": []
    },
    {
      "cell_type": "code",
      "metadata": {
        "id": "9LdHEXzXQWHs"
      },
      "source": [],
      "execution_count": null,
      "outputs": []
    },
    {
      "cell_type": "code",
      "metadata": {
        "id": "CdulJv9BQWJ5"
      },
      "source": [],
      "execution_count": null,
      "outputs": []
    },
    {
      "cell_type": "markdown",
      "metadata": {
        "id": "5-BMcqrrL3tW"
      },
      "source": [
        "# 노출수를 이용하여 클릭수 예측하기"
      ]
    },
    {
      "cell_type": "code",
      "metadata": {
        "id": "6vQspXikMhOk"
      },
      "source": [
        "from sklearn.model_selection import train_test_split\n",
        "from sklearn.svm import SVC\n",
        "from sklearn import preprocessing"
      ],
      "execution_count": null,
      "outputs": []
    },
    {
      "cell_type": "code",
      "metadata": {
        "id": "P9TqCNzHFbfd"
      },
      "source": [
        "x = df[['노출수']]"
      ],
      "execution_count": null,
      "outputs": []
    },
    {
      "cell_type": "code",
      "metadata": {
        "id": "_ya3zs7yMZAK"
      },
      "source": [
        "y = df[['클릭수']]"
      ],
      "execution_count": null,
      "outputs": []
    },
    {
      "cell_type": "code",
      "metadata": {
        "id": "AV1-6pCnMbGF"
      },
      "source": [
        "X_train, X_test, y_train, y_test = train_test_split(x, y, test_size=0.3, random_state=0)"
      ],
      "execution_count": null,
      "outputs": []
    },
    {
      "cell_type": "code",
      "metadata": {
        "id": "wJmITRJKRUnd",
        "colab": {
          "base_uri": "https://localhost:8080/",
          "height": 73
        },
        "outputId": "adc47ed1-35c0-4d3d-8a65-270e43d4caef"
      },
      "source": [
        "lab_enc = preprocessing.LabelEncoder()\n",
        "y_train = lab_enc.fit_transform(y_train)\n",
        "y_test = lab_enc.fit_transform(y_test)"
      ],
      "execution_count": null,
      "outputs": [
        {
          "output_type": "stream",
          "text": [
            "/usr/local/lib/python3.6/dist-packages/sklearn/preprocessing/_label.py:251: DataConversionWarning: A column-vector y was passed when a 1d array was expected. Please change the shape of y to (n_samples, ), for example using ravel().\n",
            "  y = column_or_1d(y, warn=True)\n"
          ],
          "name": "stderr"
        }
      ]
    },
    {
      "cell_type": "code",
      "metadata": {
        "id": "kNNIxEvgNsbD",
        "colab": {
          "base_uri": "https://localhost:8080/",
          "height": 35
        },
        "outputId": "c489bbee-1a6e-4f75-b1d7-d995cf594db1"
      },
      "source": [
        "X_train.shape, X_test.shape"
      ],
      "execution_count": null,
      "outputs": [
        {
          "output_type": "execute_result",
          "data": {
            "text/plain": [
              "((966, 1), (415, 1))"
            ]
          },
          "metadata": {
            "tags": []
          },
          "execution_count": 189
        }
      ]
    },
    {
      "cell_type": "code",
      "metadata": {
        "id": "lPAxWLSDNxb5"
      },
      "source": [
        "clf = SVC()"
      ],
      "execution_count": null,
      "outputs": []
    },
    {
      "cell_type": "code",
      "metadata": {
        "id": "sLUgS0AVOKOT",
        "colab": {
          "base_uri": "https://localhost:8080/",
          "height": 89
        },
        "outputId": "b4c48eae-edd5-460f-decf-997d93abb169"
      },
      "source": [
        "clf.fit(X_train, y_train)"
      ],
      "execution_count": null,
      "outputs": [
        {
          "output_type": "execute_result",
          "data": {
            "text/plain": [
              "SVC(C=1.0, break_ties=False, cache_size=200, class_weight=None, coef0=0.0,\n",
              "    decision_function_shape='ovr', degree=3, gamma='scale', kernel='rbf',\n",
              "    max_iter=-1, probability=False, random_state=None, shrinking=True,\n",
              "    tol=0.001, verbose=False)"
            ]
          },
          "metadata": {
            "tags": []
          },
          "execution_count": 191
        }
      ]
    },
    {
      "cell_type": "code",
      "metadata": {
        "id": "WJTzNVzFOQA5",
        "colab": {
          "base_uri": "https://localhost:8080/",
          "height": 467
        },
        "outputId": "c9868240-6c0a-4ef4-aa8f-834ddbb2ea7e"
      },
      "source": [
        "predict = clf.predict( X_test )\n",
        "predict"
      ],
      "execution_count": null,
      "outputs": [
        {
          "output_type": "execute_result",
          "data": {
            "text/plain": [
              "array([ 0,  0,  0,  0,  0,  0,  0,  0,  0,  0,  0,  0,  0,  0,  0,  0,  0,\n",
              "        0,  0,  0,  0,  0,  0,  0,  0,  0,  0,  0,  0,  0,  0,  0,  0,  0,\n",
              "        0,  0,  0,  0,  0,  0,  0,  0,  0,  0,  0,  0,  0,  0,  0,  0,  0,\n",
              "        0,  0,  0,  0,  0,  0,  0,  0,  0,  0,  0,  0,  0,  0,  0,  0,  0,\n",
              "        0,  0,  0,  0,  0, 38,  0,  0,  0,  0,  0,  0,  0,  0,  0,  0,  0,\n",
              "        0,  0,  0,  0,  0,  0,  0,  0,  0,  0,  0,  0,  0,  0,  0,  0,  0,\n",
              "        0,  0,  0,  0,  0,  0,  0,  0, 55,  0,  0,  0,  0,  0,  0,  0,  0,\n",
              "        0,  0,  0,  0,  0,  0,  0,  0,  0,  0,  0,  6,  0, 11,  0,  0,  0,\n",
              "        0,  0,  0,  0,  0,  0,  0,  0,  0,  0,  0,  0,  0, 55,  0,  0,  0,\n",
              "        0,  0,  0, 11,  0,  0,  0,  0,  0,  0,  0,  0,  0,  6,  0,  0,  0,\n",
              "        0,  0,  0,  0,  0,  0,  0,  0,  0,  0,  0,  0,  0,  0,  0,  0,  0,\n",
              "        0,  0,  0,  0,  0,  0,  0,  6,  0,  0,  0,  0,  0,  0,  0,  0,  0,\n",
              "        0,  0,  0,  0,  0,  0,  0,  0,  0,  0,  0,  0,  0,  0,  0,  0,  0,\n",
              "        0,  0,  0,  0,  0,  0,  0,  0,  0,  0,  0,  0,  0,  0,  0,  0,  0,\n",
              "        0,  0,  0,  0,  0,  0,  0,  0,  0,  0,  0,  0,  0,  0,  6,  0,  0,\n",
              "        0,  0,  0,  0,  0,  0,  0,  0,  0,  0,  0,  0,  0,  0,  0,  0,  0,\n",
              "        0,  0,  0,  0,  0,  0,  0,  0,  0,  0,  0,  0,  0,  0,  0,  0,  0,\n",
              "        0,  0,  0,  0,  0,  0,  0,  0,  0,  0,  0,  0,  0,  0,  0,  0,  0,\n",
              "        0,  0,  0,  0,  0,  0,  0,  0,  0,  0,  0,  0,  0,  0,  0,  0,  0,\n",
              "        0,  0,  0,  0,  0,  0,  0,  0, 35,  0,  0,  0,  0,  0,  0,  0,  0,\n",
              "        0,  0,  0,  0,  0,  0,  0,  0,  0,  0,  0,  0,  0,  0,  0,  0,  0,\n",
              "        0,  0,  0,  0,  0,  0,  0,  0,  0,  0,  0,  0,  0,  0,  0,  0,  0,\n",
              "        0,  0,  0,  0,  0,  0,  0,  0,  0,  0,  0,  0,  0,  0,  0,  0,  0,\n",
              "        0,  0, 11,  0,  0,  0,  0,  0,  0,  0,  0,  0,  0,  0,  0,  0,  0,\n",
              "        0,  0,  0,  0,  0,  0,  0])"
            ]
          },
          "metadata": {
            "tags": []
          },
          "execution_count": 192
        }
      ]
    },
    {
      "cell_type": "code",
      "metadata": {
        "id": "lnkL70cFP8j2",
        "colab": {
          "base_uri": "https://localhost:8080/",
          "height": 35
        },
        "outputId": "b60f029f-c8bd-4364-cd8b-cc6d0f6ffe0c"
      },
      "source": [
        "# 평가\n",
        "from sklearn import metrics\n",
        "metrics.accuracy_score( y_test, predict )"
      ],
      "execution_count": null,
      "outputs": [
        {
          "output_type": "execute_result",
          "data": {
            "text/plain": [
              "0.236144578313253"
            ]
          },
          "metadata": {
            "tags": []
          },
          "execution_count": 193
        }
      ]
    },
    {
      "cell_type": "code",
      "metadata": {
        "id": "jz-bM2PZQmGc",
        "colab": {
          "base_uri": "https://localhost:8080/",
          "height": 35
        },
        "outputId": "e1550094-2b2a-4c7a-b358-f0f373c2b8a1"
      },
      "source": [
        "clf.score( X_test, y_test )"
      ],
      "execution_count": null,
      "outputs": [
        {
          "output_type": "execute_result",
          "data": {
            "text/plain": [
              "0.236144578313253"
            ]
          },
          "metadata": {
            "tags": []
          },
          "execution_count": 194
        }
      ]
    },
    {
      "cell_type": "code",
      "metadata": {
        "id": "7CT4nsM7QojE"
      },
      "source": [
        "from sklearn.preprocessing import MinMaxScaler"
      ],
      "execution_count": null,
      "outputs": []
    },
    {
      "cell_type": "code",
      "metadata": {
        "id": "AWsrGsiFP8mt",
        "colab": {
          "base_uri": "https://localhost:8080/",
          "height": 35
        },
        "outputId": "e6e8a1d9-196a-4388-866d-d30e61940c69"
      },
      "source": [
        "scaler = MinMaxScaler().fit( X_train )\n",
        "scaler"
      ],
      "execution_count": null,
      "outputs": [
        {
          "output_type": "execute_result",
          "data": {
            "text/plain": [
              "MinMaxScaler(copy=True, feature_range=(0, 1))"
            ]
          },
          "metadata": {
            "tags": []
          },
          "execution_count": 150
        }
      ]
    },
    {
      "cell_type": "code",
      "metadata": {
        "id": "4hk54eXyP8pK",
        "colab": {
          "base_uri": "https://localhost:8080/",
          "height": 35
        },
        "outputId": "aadda71a-068f-4464-d20a-cbe7b9650f51"
      },
      "source": [
        "X_train_scaler = scaler.transform( X_train )\n",
        "X_train_scaler[:1]"
      ],
      "execution_count": null,
      "outputs": [
        {
          "output_type": "execute_result",
          "data": {
            "text/plain": [
              "array([[0.00012504]])"
            ]
          },
          "metadata": {
            "tags": []
          },
          "execution_count": 151
        }
      ]
    },
    {
      "cell_type": "code",
      "metadata": {
        "id": "WORNlHdhP8r3"
      },
      "source": [
        "clf2 = SVC()"
      ],
      "execution_count": null,
      "outputs": []
    },
    {
      "cell_type": "code",
      "metadata": {
        "id": "As-AqYLiP8uP",
        "colab": {
          "base_uri": "https://localhost:8080/",
          "height": 89
        },
        "outputId": "de11ab85-af82-4a8e-cab1-130b183466d0"
      },
      "source": [
        "clf2.fit(X_train_scaler, y_train)"
      ],
      "execution_count": null,
      "outputs": [
        {
          "output_type": "execute_result",
          "data": {
            "text/plain": [
              "SVC(C=1.0, break_ties=False, cache_size=200, class_weight=None, coef0=0.0,\n",
              "    decision_function_shape='ovr', degree=3, gamma='scale', kernel='rbf',\n",
              "    max_iter=-1, probability=False, random_state=None, shrinking=True,\n",
              "    tol=0.001, verbose=False)"
            ]
          },
          "metadata": {
            "tags": []
          },
          "execution_count": 153
        }
      ]
    },
    {
      "cell_type": "code",
      "metadata": {
        "id": "yWKOEFBVP8wD",
        "colab": {
          "base_uri": "https://localhost:8080/",
          "height": 35
        },
        "outputId": "74572dfb-2d14-4f98-a297-56cce28be96f"
      },
      "source": [
        "# 테스트 데이터를 동일하게 스케일링 처리 후 예측시킨다.\n",
        "clf2.score( scaler.transform(X_test), y_test )"
      ],
      "execution_count": null,
      "outputs": [
        {
          "output_type": "execute_result",
          "data": {
            "text/plain": [
              "0.236144578313253"
            ]
          },
          "metadata": {
            "tags": []
          },
          "execution_count": 154
        }
      ]
    },
    {
      "cell_type": "markdown",
      "metadata": {
        "id": "h5EhDAo6QyOF"
      },
      "source": [
        "# 하이퍼파라미터 튜닝"
      ]
    },
    {
      "cell_type": "code",
      "metadata": {
        "id": "ft-f3knPOqxA"
      },
      "source": [
        "from sklearn.preprocessing import StandardScaler\n",
        "from sklearn.pipeline import make_pipeline, Pipeline\n",
        "from sklearn.ensemble import RandomForestClassifier\n",
        "from sklearn.model_selection import GridSearchCV\n",
        "from sklearn.preprocessing import MinMaxScaler"
      ],
      "execution_count": null,
      "outputs": []
    },
    {
      "cell_type": "code",
      "metadata": {
        "id": "uFB3lOHTPCBD"
      },
      "source": [
        "pipe = Pipeline( [\n",
        "    ('preprocessing', StandardScaler()),\n",
        "    ('classifier', SVC() )\n",
        "])"
      ],
      "execution_count": null,
      "outputs": []
    },
    {
      "cell_type": "code",
      "metadata": {
        "id": "7YZYgGWLPFvB"
      },
      "source": [
        "param_grid = [\n",
        "    {\n",
        "        'classifier':[SVC() ],\n",
        "        'preprocessing':[StandardScaler(), MinMaxScaler() ],\n",
        "        # 이름__파라미터명 => 해당 알고리즘에 적용되는 파라미터이다.\n",
        "        'classifier__C':[0.001, 0.01, 0.1, 1, 10, 100],\n",
        "        'classifier__gamma':[0.001, 0.01, 0.1, 1, 10, 100]\n",
        "    },\n",
        "    {\n",
        "        'classifier':[RandomForestClassifier(n_estimators=100) ],\n",
        "        'preprocessing':[None],\n",
        "        'classifier__max_features':[1,2,3]\n",
        "    }\n",
        "]"
      ],
      "execution_count": null,
      "outputs": []
    },
    {
      "cell_type": "code",
      "metadata": {
        "id": "f-gFONYCPMoZ"
      },
      "source": [
        "grid = GridSearchCV( pipe, param_grid, cv=5 )\n",
        "grid"
      ],
      "execution_count": null,
      "outputs": []
    },
    {
      "cell_type": "code",
      "metadata": {
        "id": "jjD0Qkx1PVK4"
      },
      "source": [
        "grid.fit( X_train, y_train )"
      ],
      "execution_count": null,
      "outputs": []
    },
    {
      "cell_type": "code",
      "metadata": {
        "id": "yyxXqt1nPW94",
        "colab": {
          "base_uri": "https://localhost:8080/",
          "height": 35
        },
        "outputId": "f282c8b5-a027-458c-8a60-7661ebab5337"
      },
      "source": [
        "grid.best_score_"
      ],
      "execution_count": null,
      "outputs": [
        {
          "output_type": "execute_result",
          "data": {
            "text/plain": [
              "0.24429784733721488"
            ]
          },
          "metadata": {
            "tags": []
          },
          "execution_count": 161
        }
      ]
    },
    {
      "cell_type": "code",
      "metadata": {
        "id": "1XIDxjBzSwHF",
        "colab": {
          "base_uri": "https://localhost:8080/",
          "height": 143
        },
        "outputId": "55d116fb-01a1-481e-d67a-72ed891dd60e"
      },
      "source": [
        "grid.best_params_"
      ],
      "execution_count": null,
      "outputs": [
        {
          "output_type": "execute_result",
          "data": {
            "text/plain": [
              "{'classifier': SVC(C=1, break_ties=False, cache_size=200, class_weight=None, coef0=0.0,\n",
              "     decision_function_shape='ovr', degree=3, gamma=100, kernel='rbf',\n",
              "     max_iter=-1, probability=False, random_state=None, shrinking=True,\n",
              "     tol=0.001, verbose=False),\n",
              " 'classifier__C': 1,\n",
              " 'classifier__gamma': 100,\n",
              " 'preprocessing': StandardScaler(copy=True, with_mean=True, with_std=True)}"
            ]
          },
          "metadata": {
            "tags": []
          },
          "execution_count": 170
        }
      ]
    },
    {
      "cell_type": "code",
      "metadata": {
        "id": "yR-4SnTxTL5Q"
      },
      "source": [
        "경북대학교 민수린"
      ],
      "execution_count": null,
      "outputs": []
    }
  ]
}